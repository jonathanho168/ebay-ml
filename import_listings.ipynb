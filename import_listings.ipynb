{
 "cells": [
  {
   "cell_type": "code",
   "execution_count": 6,
   "id": "76ea46e4",
   "metadata": {},
   "outputs": [
    {
     "data": {
      "text/html": [
       "<div>\n",
       "<style scoped>\n",
       "    .dataframe tbody tr th:only-of-type {\n",
       "        vertical-align: middle;\n",
       "    }\n",
       "\n",
       "    .dataframe tbody tr th {\n",
       "        vertical-align: top;\n",
       "    }\n",
       "\n",
       "    .dataframe thead th {\n",
       "        text-align: right;\n",
       "    }\n",
       "</style>\n",
       "<table border=\"1\" class=\"dataframe\">\n",
       "  <thead>\n",
       "    <tr style=\"text-align: right;\">\n",
       "      <th></th>\n",
       "      <th>Record Number</th>\n",
       "      <th>Title</th>\n",
       "    </tr>\n",
       "  </thead>\n",
       "  <tbody>\n",
       "    <tr>\n",
       "      <th>0</th>\n",
       "      <td>1</td>\n",
       "      <td>Supreme Nike SB Dunk High By any Means Red US1...</td>\n",
       "    </tr>\n",
       "    <tr>\n",
       "      <th>1</th>\n",
       "      <td>2</td>\n",
       "      <td>New Balance 530 Männer und Frauen Laufschuhe m...</td>\n",
       "    </tr>\n",
       "    <tr>\n",
       "      <th>2</th>\n",
       "      <td>3</td>\n",
       "      <td>♥ MICHAEL KORS Sneaker Gr 39 ♥</td>\n",
       "    </tr>\n",
       "    <tr>\n",
       "      <th>3</th>\n",
       "      <td>4</td>\n",
       "      <td>New Balance ML 574 EGO Turnschuhe grün</td>\n",
       "    </tr>\n",
       "    <tr>\n",
       "      <th>4</th>\n",
       "      <td>5</td>\n",
       "      <td>Nike air jordan 9 og , space jam , hare , bugs...</td>\n",
       "    </tr>\n",
       "    <tr>\n",
       "      <th>...</th>\n",
       "      <td>...</td>\n",
       "      <td>...</td>\n",
       "    </tr>\n",
       "    <tr>\n",
       "      <th>1183215</th>\n",
       "      <td>1184443</td>\n",
       "      <td>Nike AIR JORDAN 1 RETRO HIGH OG - US 11 EUR 45...</td>\n",
       "    </tr>\n",
       "    <tr>\n",
       "      <th>1183216</th>\n",
       "      <td>1184444</td>\n",
       "      <td>FUBU Web Block Low Leder white grey</td>\n",
       "    </tr>\n",
       "    <tr>\n",
       "      <th>1183217</th>\n",
       "      <td>1184445</td>\n",
       "      <td>[ NEU ] Adidas ZX 750 BLAU / WEISS versch.Größen</td>\n",
       "    </tr>\n",
       "    <tr>\n",
       "      <th>1183218</th>\n",
       "      <td>1184446</td>\n",
       "      <td>Puma Unisex Enzo Terrain Laufschuhe ( grau ) -...</td>\n",
       "    </tr>\n",
       "    <tr>\n",
       "      <th>1183219</th>\n",
       "      <td>1184447</td>\n",
       "      <td>Asics Aaron off white / red H900N9923 Größe EU...</td>\n",
       "    </tr>\n",
       "  </tbody>\n",
       "</table>\n",
       "<p>1183220 rows × 2 columns</p>\n",
       "</div>"
      ],
      "text/plain": [
       "         Record Number                                              Title\n",
       "0                    1  Supreme Nike SB Dunk High By any Means Red US1...\n",
       "1                    2  New Balance 530 Männer und Frauen Laufschuhe m...\n",
       "2                    3                     ♥ MICHAEL KORS Sneaker Gr 39 ♥\n",
       "3                    4             New Balance ML 574 EGO Turnschuhe grün\n",
       "4                    5  Nike air jordan 9 og , space jam , hare , bugs...\n",
       "...                ...                                                ...\n",
       "1183215        1184443  Nike AIR JORDAN 1 RETRO HIGH OG - US 11 EUR 45...\n",
       "1183216        1184444                FUBU Web Block Low Leder white grey\n",
       "1183217        1184445   [ NEU ] Adidas ZX 750 BLAU / WEISS versch.Größen\n",
       "1183218        1184446  Puma Unisex Enzo Terrain Laufschuhe ( grau ) -...\n",
       "1183219        1184447  Asics Aaron off white / red H900N9923 Größe EU...\n",
       "\n",
       "[1183220 rows x 2 columns]"
      ]
     },
     "execution_count": 6,
     "metadata": {},
     "output_type": "execute_result"
    }
   ],
   "source": [
    "import pandas as pd # import pandas library\n",
    "dfaa = pd.read_table('dataset/listings/listingsaa.tsv', low_memory=False) # read the tsv files into a pandas dataframe object\n",
    "\n",
    "dfaa"
   ]
  },
  {
   "cell_type": "code",
   "execution_count": 7,
   "id": "3641ec88",
   "metadata": {},
   "outputs": [],
   "source": [
    "# import all tsv files similarly\n",
    "dfab = pd.read_table('dataset/listings/listingsab.tsv', low_memory=False)\n",
    "dfac = pd.read_table('dataset/listings/listingsac.tsv', low_memory=False)\n",
    "dfad = pd.read_table('dataset/listings/listingsad.tsv', low_memory=False)\n",
    "dfae = pd.read_table('dataset/listings/listingsae.tsv', low_memory=False\n",
    "dfaf = pd.read_table('dataset/listings/listingsaf.tsv', low_memory=False)\n",
    "dfag = pd.read_table('dataset/listings/listingsag.tsv', low_memory=False)\n",
    "dfah = pd.read_table('dataset/listings/listingsah.tsv', low_memory=False)\n",
    "dfai = pd.read_table('dataset/listings/listingsai.tsv', low_memory=False)"
   ]
  },
  {
   "cell_type": "code",
   "execution_count": 13,
   "id": "e9dd7b23",
   "metadata": {},
   "outputs": [
    {
     "name": "stdout",
     "output_type": "stream",
     "text": [
      "(1183220, 2)\n",
      "(1168556, 2)\n",
      "(1168795, 2)\n",
      "(1168621, 2)\n",
      "(1167540, 2)\n",
      "(1167982, 2)\n",
      "(1168639, 2)\n",
      "(1168832, 2)\n",
      "(629497, 2)\n"
     ]
    }
   ],
   "source": [
    "everything = [dfaa, dfab, dfac, dfad, dfae, dfaf, dfag, dfah, dfai]\n",
    "\n",
    "for frame in everything:\n",
    "    print(frame.shape)"
   ]
  },
  {
   "cell_type": "code",
   "execution_count": 11,
   "id": "9b4e383c",
   "metadata": {
    "scrolled": true
   },
   "outputs": [
    {
     "data": {
      "text/html": [
       "<div>\n",
       "<style scoped>\n",
       "    .dataframe tbody tr th:only-of-type {\n",
       "        vertical-align: middle;\n",
       "    }\n",
       "\n",
       "    .dataframe tbody tr th {\n",
       "        vertical-align: top;\n",
       "    }\n",
       "\n",
       "    .dataframe thead th {\n",
       "        text-align: right;\n",
       "    }\n",
       "</style>\n",
       "<table border=\"1\" class=\"dataframe\">\n",
       "  <thead>\n",
       "    <tr style=\"text-align: right;\">\n",
       "      <th></th>\n",
       "      <th>Record Number</th>\n",
       "      <th>Title</th>\n",
       "    </tr>\n",
       "  </thead>\n",
       "  <tbody>\n",
       "    <tr>\n",
       "      <th>0</th>\n",
       "      <td>1</td>\n",
       "      <td>Supreme Nike SB Dunk High By any Means Red US1...</td>\n",
       "    </tr>\n",
       "    <tr>\n",
       "      <th>1</th>\n",
       "      <td>2</td>\n",
       "      <td>New Balance 530 Männer und Frauen Laufschuhe m...</td>\n",
       "    </tr>\n",
       "    <tr>\n",
       "      <th>2</th>\n",
       "      <td>3</td>\n",
       "      <td>♥ MICHAEL KORS Sneaker Gr 39 ♥</td>\n",
       "    </tr>\n",
       "    <tr>\n",
       "      <th>3</th>\n",
       "      <td>4</td>\n",
       "      <td>New Balance ML 574 EGO Turnschuhe grün</td>\n",
       "    </tr>\n",
       "    <tr>\n",
       "      <th>4</th>\n",
       "      <td>5</td>\n",
       "      <td>Nike air jordan 9 og , space jam , hare , bugs...</td>\n",
       "    </tr>\n",
       "    <tr>\n",
       "      <th>...</th>\n",
       "      <td>...</td>\n",
       "      <td>...</td>\n",
       "    </tr>\n",
       "    <tr>\n",
       "      <th>9991677</th>\n",
       "      <td>9999996</td>\n",
       "      <td>Skechers Compulsions Z Strap Damen Schwarz Tur...</td>\n",
       "    </tr>\n",
       "    <tr>\n",
       "      <th>9991678</th>\n",
       "      <td>9999997</td>\n",
       "      <td>Neu bogner 199 . Euro neupreis</td>\n",
       "    </tr>\n",
       "    <tr>\n",
       "      <th>9991679</th>\n",
       "      <td>9999998</td>\n",
       "      <td>New Balance M670 Herren US 11 Schwarz Tennissc...</td>\n",
       "    </tr>\n",
       "    <tr>\n",
       "      <th>9991680</th>\n",
       "      <td>9999999</td>\n",
       "      <td>Pepe Jeans Tinker Pro 73 Edt 20 Sneakers Herre...</td>\n",
       "    </tr>\n",
       "    <tr>\n",
       "      <th>9991681</th>\n",
       "      <td>10000000</td>\n",
       "      <td>HERREN SCHUHE SNEAKERS ADIDAS ORIGINALS X_PLR ...</td>\n",
       "    </tr>\n",
       "  </tbody>\n",
       "</table>\n",
       "<p>9991682 rows × 2 columns</p>\n",
       "</div>"
      ],
      "text/plain": [
       "         Record Number                                              Title\n",
       "0                    1  Supreme Nike SB Dunk High By any Means Red US1...\n",
       "1                    2  New Balance 530 Männer und Frauen Laufschuhe m...\n",
       "2                    3                     ♥ MICHAEL KORS Sneaker Gr 39 ♥\n",
       "3                    4             New Balance ML 574 EGO Turnschuhe grün\n",
       "4                    5  Nike air jordan 9 og , space jam , hare , bugs...\n",
       "...                ...                                                ...\n",
       "9991677        9999996  Skechers Compulsions Z Strap Damen Schwarz Tur...\n",
       "9991678        9999997                     Neu bogner 199 . Euro neupreis\n",
       "9991679        9999998  New Balance M670 Herren US 11 Schwarz Tennissc...\n",
       "9991680        9999999  Pepe Jeans Tinker Pro 73 Edt 20 Sneakers Herre...\n",
       "9991681       10000000  HERREN SCHUHE SNEAKERS ADIDAS ORIGINALS X_PLR ...\n",
       "\n",
       "[9991682 rows x 2 columns]"
      ]
     },
     "execution_count": 11,
     "metadata": {},
     "output_type": "execute_result"
    }
   ],
   "source": [
    "# append dataframes\n",
    "\n",
    "df = pd.concat([dfaa, dfab, dfac, dfad, dfae, dfaf, dfag, dfah, dfai], ignore_index=True)\n",
    "\n",
    "df"
   ]
  },
  {
   "cell_type": "code",
   "execution_count": 12,
   "id": "d879a023",
   "metadata": {},
   "outputs": [
    {
     "data": {
      "text/plain": [
       "(9991682, 2)"
      ]
     },
     "execution_count": 12,
     "metadata": {},
     "output_type": "execute_result"
    }
   ],
   "source": [
    "df.shape"
   ]
  },
  {
   "cell_type": "code",
   "execution_count": null,
   "id": "bd99ce74",
   "metadata": {},
   "outputs": [],
   "source": []
  }
 ],
 "metadata": {
  "kernelspec": {
   "display_name": "Python 3 (ipykernel)",
   "language": "python",
   "name": "python3"
  },
  "language_info": {
   "codemirror_mode": {
    "name": "ipython",
    "version": 3
   },
   "file_extension": ".py",
   "mimetype": "text/x-python",
   "name": "python",
   "nbconvert_exporter": "python",
   "pygments_lexer": "ipython3",
   "version": "3.9.12"
  }
 },
 "nbformat": 4,
 "nbformat_minor": 5
}
