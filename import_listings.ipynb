{
 "cells": [
  {
   "cell_type": "markdown",
   "id": "6c6f1fc8",
   "metadata": {},
   "source": [
    "# Import Listings dataset"
   ]
  },
  {
   "cell_type": "code",
   "execution_count": 6,
   "id": "c29aefd8",
   "metadata": {},
   "outputs": [
    {
     "data": {
      "text/html": [
       "<div>\n",
       "<style scoped>\n",
       "    .dataframe tbody tr th:only-of-type {\n",
       "        vertical-align: middle;\n",
       "    }\n",
       "\n",
       "    .dataframe tbody tr th {\n",
       "        vertical-align: top;\n",
       "    }\n",
       "\n",
       "    .dataframe thead th {\n",
       "        text-align: right;\n",
       "    }\n",
       "</style>\n",
       "<table border=\"1\" class=\"dataframe\">\n",
       "  <thead>\n",
       "    <tr style=\"text-align: right;\">\n",
       "      <th></th>\n",
       "      <th>Record Number</th>\n",
       "      <th>Title</th>\n",
       "    </tr>\n",
       "  </thead>\n",
       "  <tbody>\n",
       "    <tr>\n",
       "      <th>0</th>\n",
       "      <td>1</td>\n",
       "      <td>Supreme Nike SB Dunk High By any Means Red US1...</td>\n",
       "    </tr>\n",
       "    <tr>\n",
       "      <th>1</th>\n",
       "      <td>2</td>\n",
       "      <td>New Balance 530 Männer und Frauen Laufschuhe m...</td>\n",
       "    </tr>\n",
       "    <tr>\n",
       "      <th>2</th>\n",
       "      <td>3</td>\n",
       "      <td>♥ MICHAEL KORS Sneaker Gr 39 ♥</td>\n",
       "    </tr>\n",
       "    <tr>\n",
       "      <th>3</th>\n",
       "      <td>4</td>\n",
       "      <td>New Balance ML 574 EGO Turnschuhe grün</td>\n",
       "    </tr>\n",
       "    <tr>\n",
       "      <th>4</th>\n",
       "      <td>5</td>\n",
       "      <td>Nike air jordan 9 og , space jam , hare , bugs...</td>\n",
       "    </tr>\n",
       "    <tr>\n",
       "      <th>...</th>\n",
       "      <td>...</td>\n",
       "      <td>...</td>\n",
       "    </tr>\n",
       "    <tr>\n",
       "      <th>1183215</th>\n",
       "      <td>1184443</td>\n",
       "      <td>Nike AIR JORDAN 1 RETRO HIGH OG - US 11 EUR 45...</td>\n",
       "    </tr>\n",
       "    <tr>\n",
       "      <th>1183216</th>\n",
       "      <td>1184444</td>\n",
       "      <td>FUBU Web Block Low Leder white grey</td>\n",
       "    </tr>\n",
       "    <tr>\n",
       "      <th>1183217</th>\n",
       "      <td>1184445</td>\n",
       "      <td>[ NEU ] Adidas ZX 750 BLAU / WEISS versch.Größen</td>\n",
       "    </tr>\n",
       "    <tr>\n",
       "      <th>1183218</th>\n",
       "      <td>1184446</td>\n",
       "      <td>Puma Unisex Enzo Terrain Laufschuhe ( grau ) -...</td>\n",
       "    </tr>\n",
       "    <tr>\n",
       "      <th>1183219</th>\n",
       "      <td>1184447</td>\n",
       "      <td>Asics Aaron off white / red H900N9923 Größe EU...</td>\n",
       "    </tr>\n",
       "  </tbody>\n",
       "</table>\n",
       "<p>1183220 rows × 2 columns</p>\n",
       "</div>"
      ],
      "text/plain": [
       "         Record Number                                              Title\n",
       "0                    1  Supreme Nike SB Dunk High By any Means Red US1...\n",
       "1                    2  New Balance 530 Männer und Frauen Laufschuhe m...\n",
       "2                    3                     ♥ MICHAEL KORS Sneaker Gr 39 ♥\n",
       "3                    4             New Balance ML 574 EGO Turnschuhe grün\n",
       "4                    5  Nike air jordan 9 og , space jam , hare , bugs...\n",
       "...                ...                                                ...\n",
       "1183215        1184443  Nike AIR JORDAN 1 RETRO HIGH OG - US 11 EUR 45...\n",
       "1183216        1184444                FUBU Web Block Low Leder white grey\n",
       "1183217        1184445   [ NEU ] Adidas ZX 750 BLAU / WEISS versch.Größen\n",
       "1183218        1184446  Puma Unisex Enzo Terrain Laufschuhe ( grau ) -...\n",
       "1183219        1184447  Asics Aaron off white / red H900N9923 Größe EU...\n",
       "\n",
       "[1183220 rows x 2 columns]"
      ]
     },
     "execution_count": 6,
     "metadata": {},
     "output_type": "execute_result"
    }
   ],
   "source": [
    "import pandas as pd # import pandas library\n",
    "dfaa = pd.read_table('dataset/listings/listingsaa.tsv', low_memory=False) # read the tsv files into a pandas dataframe object\n",
    "\n",
    "dfaa"
   ]
  },
  {
   "cell_type": "code",
   "execution_count": 7,
   "id": "4d2f1576",
   "metadata": {},
   "outputs": [],
   "source": [
    "# import all tsv files similarly\n",
    "dfab = pd.read_table('dataset/listings/listingsab.tsv', low_memory=False)\n",
    "dfac = pd.read_table('dataset/listings/listingsac.tsv', low_memory=False)\n",
    "dfad = pd.read_table('dataset/listings/listingsad.tsv', low_memory=False)\n",
    "dfae = pd.read_table('dataset/listings/listingsae.tsv', low_memory=False\n",
    "dfaf = pd.read_table('dataset/listings/listingsaf.tsv', low_memory=False)\n",
    "dfag = pd.read_table('dataset/listings/listingsag.tsv', low_memory=False)\n",
    "dfah = pd.read_table('dataset/listings/listingsah.tsv', low_memory=False)\n",
    "dfai = pd.read_table('dataset/listings/listingsai.tsv', low_memory=False)"
   ]
  },
  {
   "cell_type": "code",
   "execution_count": 13,
   "id": "4f501d22",
   "metadata": {},
   "outputs": [
    {
     "name": "stdout",
     "output_type": "stream",
     "text": [
      "(1183220, 2)\n",
      "(1168556, 2)\n",
      "(1168795, 2)\n",
      "(1168621, 2)\n",
      "(1167540, 2)\n",
      "(1167982, 2)\n",
      "(1168639, 2)\n",
      "(1168832, 2)\n",
      "(629497, 2)\n"
     ]
    }
   ],
   "source": [
    "everything = [dfaa, dfab, dfac, dfad, dfae, dfaf, dfag, dfah, dfai]\n",
    "\n",
    "for frame in everything:\n",
    "    print(frame.shape)"
   ]
  },
  {
   "cell_type": "code",
   "execution_count": 14,
   "id": "a271bc90",
   "metadata": {
    "scrolled": true
   },
   "outputs": [
    {
     "data": {
      "text/html": [
       "<div>\n",
       "<style scoped>\n",
       "    .dataframe tbody tr th:only-of-type {\n",
       "        vertical-align: middle;\n",
       "    }\n",
       "\n",
       "    .dataframe tbody tr th {\n",
       "        vertical-align: top;\n",
       "    }\n",
       "\n",
       "    .dataframe thead th {\n",
       "        text-align: right;\n",
       "    }\n",
       "</style>\n",
       "<table border=\"1\" class=\"dataframe\">\n",
       "  <thead>\n",
       "    <tr style=\"text-align: right;\">\n",
       "      <th></th>\n",
       "      <th>Record Number</th>\n",
       "      <th>Title</th>\n",
       "    </tr>\n",
       "  </thead>\n",
       "  <tbody>\n",
       "    <tr>\n",
       "      <th>0</th>\n",
       "      <td>1</td>\n",
       "      <td>Supreme Nike SB Dunk High By any Means Red US1...</td>\n",
       "    </tr>\n",
       "    <tr>\n",
       "      <th>1</th>\n",
       "      <td>2</td>\n",
       "      <td>New Balance 530 Männer und Frauen Laufschuhe m...</td>\n",
       "    </tr>\n",
       "    <tr>\n",
       "      <th>2</th>\n",
       "      <td>3</td>\n",
       "      <td>♥ MICHAEL KORS Sneaker Gr 39 ♥</td>\n",
       "    </tr>\n",
       "    <tr>\n",
       "      <th>3</th>\n",
       "      <td>4</td>\n",
       "      <td>New Balance ML 574 EGO Turnschuhe grün</td>\n",
       "    </tr>\n",
       "    <tr>\n",
       "      <th>4</th>\n",
       "      <td>5</td>\n",
       "      <td>Nike air jordan 9 og , space jam , hare , bugs...</td>\n",
       "    </tr>\n",
       "    <tr>\n",
       "      <th>...</th>\n",
       "      <td>...</td>\n",
       "      <td>...</td>\n",
       "    </tr>\n",
       "    <tr>\n",
       "      <th>9991677</th>\n",
       "      <td>9999996</td>\n",
       "      <td>Skechers Compulsions Z Strap Damen Schwarz Tur...</td>\n",
       "    </tr>\n",
       "    <tr>\n",
       "      <th>9991678</th>\n",
       "      <td>9999997</td>\n",
       "      <td>Neu bogner 199 . Euro neupreis</td>\n",
       "    </tr>\n",
       "    <tr>\n",
       "      <th>9991679</th>\n",
       "      <td>9999998</td>\n",
       "      <td>New Balance M670 Herren US 11 Schwarz Tennissc...</td>\n",
       "    </tr>\n",
       "    <tr>\n",
       "      <th>9991680</th>\n",
       "      <td>9999999</td>\n",
       "      <td>Pepe Jeans Tinker Pro 73 Edt 20 Sneakers Herre...</td>\n",
       "    </tr>\n",
       "    <tr>\n",
       "      <th>9991681</th>\n",
       "      <td>10000000</td>\n",
       "      <td>HERREN SCHUHE SNEAKERS ADIDAS ORIGINALS X_PLR ...</td>\n",
       "    </tr>\n",
       "  </tbody>\n",
       "</table>\n",
       "<p>9991682 rows × 2 columns</p>\n",
       "</div>"
      ],
      "text/plain": [
       "         Record Number                                              Title\n",
       "0                    1  Supreme Nike SB Dunk High By any Means Red US1...\n",
       "1                    2  New Balance 530 Männer und Frauen Laufschuhe m...\n",
       "2                    3                     ♥ MICHAEL KORS Sneaker Gr 39 ♥\n",
       "3                    4             New Balance ML 574 EGO Turnschuhe grün\n",
       "4                    5  Nike air jordan 9 og , space jam , hare , bugs...\n",
       "...                ...                                                ...\n",
       "9991677        9999996  Skechers Compulsions Z Strap Damen Schwarz Tur...\n",
       "9991678        9999997                     Neu bogner 199 . Euro neupreis\n",
       "9991679        9999998  New Balance M670 Herren US 11 Schwarz Tennissc...\n",
       "9991680        9999999  Pepe Jeans Tinker Pro 73 Edt 20 Sneakers Herre...\n",
       "9991681       10000000  HERREN SCHUHE SNEAKERS ADIDAS ORIGINALS X_PLR ...\n",
       "\n",
       "[9991682 rows x 2 columns]"
      ]
     },
     "execution_count": 14,
     "metadata": {},
     "output_type": "execute_result"
    }
   ],
   "source": [
    "# append dataframes\n",
    "\n",
    "df = pd.concat(everything, ignore_index=True)\n",
    "\n",
    "df"
   ]
  },
  {
   "cell_type": "code",
   "execution_count": 12,
   "id": "671a8674",
   "metadata": {},
   "outputs": [
    {
     "data": {
      "text/plain": [
       "(9991682, 2)"
      ]
     },
     "execution_count": 12,
     "metadata": {},
     "output_type": "execute_result"
    }
   ],
   "source": [
    "df.shape"
   ]
  },
  {
   "cell_type": "markdown",
   "id": "5a7105fe",
   "metadata": {},
   "source": [
    "# Import Tagged dataset"
   ]
  },
  {
   "cell_type": "code",
   "execution_count": 16,
   "id": "f0662ffe",
   "metadata": {},
   "outputs": [
    {
     "ename": "ParserError",
     "evalue": "Error tokenizing data. C error: Expected 4 fields in line 285, saw 5\n",
     "output_type": "error",
     "traceback": [
      "\u001b[0;31m---------------------------------------------------------------------------\u001b[0m",
      "\u001b[0;31mParserError\u001b[0m                               Traceback (most recent call last)",
      "Input \u001b[0;32mIn [16]\u001b[0m, in \u001b[0;36m<cell line: 1>\u001b[0;34m()\u001b[0m\n\u001b[0;32m----> 1\u001b[0m tagged \u001b[38;5;241m=\u001b[39m \u001b[43mpd\u001b[49m\u001b[38;5;241;43m.\u001b[39;49m\u001b[43mread_table\u001b[49m\u001b[43m(\u001b[49m\u001b[38;5;124;43m'\u001b[39;49m\u001b[38;5;124;43mdataset/Train_Tagged_Titles.tsv\u001b[39;49m\u001b[38;5;124;43m'\u001b[39;49m\u001b[43m,\u001b[49m\u001b[43m \u001b[49m\u001b[43mlow_memory\u001b[49m\u001b[38;5;241;43m=\u001b[39;49m\u001b[38;5;28;43;01mFalse\u001b[39;49;00m\u001b[43m)\u001b[49m\n\u001b[1;32m      3\u001b[0m tagged\n",
      "File \u001b[0;32m~/opt/anaconda3/lib/python3.9/site-packages/pandas/util/_decorators.py:311\u001b[0m, in \u001b[0;36mdeprecate_nonkeyword_arguments.<locals>.decorate.<locals>.wrapper\u001b[0;34m(*args, **kwargs)\u001b[0m\n\u001b[1;32m    305\u001b[0m \u001b[38;5;28;01mif\u001b[39;00m \u001b[38;5;28mlen\u001b[39m(args) \u001b[38;5;241m>\u001b[39m num_allow_args:\n\u001b[1;32m    306\u001b[0m     warnings\u001b[38;5;241m.\u001b[39mwarn(\n\u001b[1;32m    307\u001b[0m         msg\u001b[38;5;241m.\u001b[39mformat(arguments\u001b[38;5;241m=\u001b[39marguments),\n\u001b[1;32m    308\u001b[0m         \u001b[38;5;167;01mFutureWarning\u001b[39;00m,\n\u001b[1;32m    309\u001b[0m         stacklevel\u001b[38;5;241m=\u001b[39mstacklevel,\n\u001b[1;32m    310\u001b[0m     )\n\u001b[0;32m--> 311\u001b[0m \u001b[38;5;28;01mreturn\u001b[39;00m \u001b[43mfunc\u001b[49m\u001b[43m(\u001b[49m\u001b[38;5;241;43m*\u001b[39;49m\u001b[43margs\u001b[49m\u001b[43m,\u001b[49m\u001b[43m \u001b[49m\u001b[38;5;241;43m*\u001b[39;49m\u001b[38;5;241;43m*\u001b[39;49m\u001b[43mkwargs\u001b[49m\u001b[43m)\u001b[49m\n",
      "File \u001b[0;32m~/opt/anaconda3/lib/python3.9/site-packages/pandas/io/parsers/readers.py:779\u001b[0m, in \u001b[0;36mread_table\u001b[0;34m(filepath_or_buffer, sep, delimiter, header, names, index_col, usecols, squeeze, prefix, mangle_dupe_cols, dtype, engine, converters, true_values, false_values, skipinitialspace, skiprows, skipfooter, nrows, na_values, keep_default_na, na_filter, verbose, skip_blank_lines, parse_dates, infer_datetime_format, keep_date_col, date_parser, dayfirst, cache_dates, iterator, chunksize, compression, thousands, decimal, lineterminator, quotechar, quoting, doublequote, escapechar, comment, encoding, encoding_errors, dialect, error_bad_lines, warn_bad_lines, on_bad_lines, delim_whitespace, low_memory, memory_map, float_precision, storage_options)\u001b[0m\n\u001b[1;32m    764\u001b[0m kwds_defaults \u001b[38;5;241m=\u001b[39m _refine_defaults_read(\n\u001b[1;32m    765\u001b[0m     dialect,\n\u001b[1;32m    766\u001b[0m     delimiter,\n\u001b[0;32m   (...)\u001b[0m\n\u001b[1;32m    775\u001b[0m     defaults\u001b[38;5;241m=\u001b[39m{\u001b[38;5;124m\"\u001b[39m\u001b[38;5;124mdelimiter\u001b[39m\u001b[38;5;124m\"\u001b[39m: \u001b[38;5;124m\"\u001b[39m\u001b[38;5;130;01m\\t\u001b[39;00m\u001b[38;5;124m\"\u001b[39m},\n\u001b[1;32m    776\u001b[0m )\n\u001b[1;32m    777\u001b[0m kwds\u001b[38;5;241m.\u001b[39mupdate(kwds_defaults)\n\u001b[0;32m--> 779\u001b[0m \u001b[38;5;28;01mreturn\u001b[39;00m \u001b[43m_read\u001b[49m\u001b[43m(\u001b[49m\u001b[43mfilepath_or_buffer\u001b[49m\u001b[43m,\u001b[49m\u001b[43m \u001b[49m\u001b[43mkwds\u001b[49m\u001b[43m)\u001b[49m\n",
      "File \u001b[0;32m~/opt/anaconda3/lib/python3.9/site-packages/pandas/io/parsers/readers.py:581\u001b[0m, in \u001b[0;36m_read\u001b[0;34m(filepath_or_buffer, kwds)\u001b[0m\n\u001b[1;32m    578\u001b[0m     \u001b[38;5;28;01mreturn\u001b[39;00m parser\n\u001b[1;32m    580\u001b[0m \u001b[38;5;28;01mwith\u001b[39;00m parser:\n\u001b[0;32m--> 581\u001b[0m     \u001b[38;5;28;01mreturn\u001b[39;00m \u001b[43mparser\u001b[49m\u001b[38;5;241;43m.\u001b[39;49m\u001b[43mread\u001b[49m\u001b[43m(\u001b[49m\u001b[43mnrows\u001b[49m\u001b[43m)\u001b[49m\n",
      "File \u001b[0;32m~/opt/anaconda3/lib/python3.9/site-packages/pandas/io/parsers/readers.py:1254\u001b[0m, in \u001b[0;36mTextFileReader.read\u001b[0;34m(self, nrows)\u001b[0m\n\u001b[1;32m   1252\u001b[0m nrows \u001b[38;5;241m=\u001b[39m validate_integer(\u001b[38;5;124m\"\u001b[39m\u001b[38;5;124mnrows\u001b[39m\u001b[38;5;124m\"\u001b[39m, nrows)\n\u001b[1;32m   1253\u001b[0m \u001b[38;5;28;01mtry\u001b[39;00m:\n\u001b[0;32m-> 1254\u001b[0m     index, columns, col_dict \u001b[38;5;241m=\u001b[39m \u001b[38;5;28;43mself\u001b[39;49m\u001b[38;5;241;43m.\u001b[39;49m\u001b[43m_engine\u001b[49m\u001b[38;5;241;43m.\u001b[39;49m\u001b[43mread\u001b[49m\u001b[43m(\u001b[49m\u001b[43mnrows\u001b[49m\u001b[43m)\u001b[49m\n\u001b[1;32m   1255\u001b[0m \u001b[38;5;28;01mexcept\u001b[39;00m \u001b[38;5;167;01mException\u001b[39;00m:\n\u001b[1;32m   1256\u001b[0m     \u001b[38;5;28mself\u001b[39m\u001b[38;5;241m.\u001b[39mclose()\n",
      "File \u001b[0;32m~/opt/anaconda3/lib/python3.9/site-packages/pandas/io/parsers/c_parser_wrapper.py:230\u001b[0m, in \u001b[0;36mCParserWrapper.read\u001b[0;34m(self, nrows)\u001b[0m\n\u001b[1;32m    227\u001b[0m         data \u001b[38;5;241m=\u001b[39m _concatenate_chunks(chunks)\n\u001b[1;32m    229\u001b[0m     \u001b[38;5;28;01melse\u001b[39;00m:\n\u001b[0;32m--> 230\u001b[0m         data \u001b[38;5;241m=\u001b[39m \u001b[38;5;28;43mself\u001b[39;49m\u001b[38;5;241;43m.\u001b[39;49m\u001b[43m_reader\u001b[49m\u001b[38;5;241;43m.\u001b[39;49m\u001b[43mread\u001b[49m\u001b[43m(\u001b[49m\u001b[43mnrows\u001b[49m\u001b[43m)\u001b[49m\n\u001b[1;32m    231\u001b[0m \u001b[38;5;28;01mexcept\u001b[39;00m \u001b[38;5;167;01mStopIteration\u001b[39;00m:\n\u001b[1;32m    232\u001b[0m     \u001b[38;5;28;01mif\u001b[39;00m \u001b[38;5;28mself\u001b[39m\u001b[38;5;241m.\u001b[39m_first_chunk:\n",
      "File \u001b[0;32m~/opt/anaconda3/lib/python3.9/site-packages/pandas/_libs/parsers.pyx:787\u001b[0m, in \u001b[0;36mpandas._libs.parsers.TextReader.read\u001b[0;34m()\u001b[0m\n",
      "File \u001b[0;32m~/opt/anaconda3/lib/python3.9/site-packages/pandas/_libs/parsers.pyx:876\u001b[0m, in \u001b[0;36mpandas._libs.parsers.TextReader._read_rows\u001b[0;34m()\u001b[0m\n",
      "File \u001b[0;32m~/opt/anaconda3/lib/python3.9/site-packages/pandas/_libs/parsers.pyx:1960\u001b[0m, in \u001b[0;36mpandas._libs.parsers.raise_parser_error\u001b[0;34m()\u001b[0m\n",
      "\u001b[0;31mParserError\u001b[0m: Error tokenizing data. C error: Expected 4 fields in line 285, saw 5\n"
     ]
    }
   ],
   "source": [
    "tagged = pd.read_table('dataset/Train_Tagged_Titles.tsv', low_memory=False)\n",
    "\n",
    "tagged"
   ]
  },
  {
   "cell_type": "code",
   "execution_count": null,
   "id": "48f70545",
   "metadata": {},
   "outputs": [],
   "source": []
  }
 ],
 "metadata": {
  "kernelspec": {
   "display_name": "Python 3 (ipykernel)",
   "language": "python",
   "name": "python3"
  },
  "language_info": {
   "codemirror_mode": {
    "name": "ipython",
    "version": 3
   },
   "file_extension": ".py",
   "mimetype": "text/x-python",
   "name": "python",
   "nbconvert_exporter": "python",
   "pygments_lexer": "ipython3",
   "version": "3.9.12"
  }
 },
 "nbformat": 4,
 "nbformat_minor": 5
}
